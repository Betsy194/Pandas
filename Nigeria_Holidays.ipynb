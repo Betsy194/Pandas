{
  "nbformat": 4,
  "nbformat_minor": 0,
  "metadata": {
    "colab": {
      "provenance": [],
      "authorship_tag": "ABX9TyMml4IyG2cM6d2AlNt0Y3OH",
      "include_colab_link": true
    },
    "kernelspec": {
      "name": "python3",
      "display_name": "Python 3"
    },
    "language_info": {
      "name": "python"
    }
  },
  "cells": [
    {
      "cell_type": "markdown",
      "metadata": {
        "id": "view-in-github",
        "colab_type": "text"
      },
      "source": [
        "<a href=\"https://colab.research.google.com/github/Betsy194/Pandas/blob/main/Nigeria_Holidays.ipynb\" target=\"_parent\"><img src=\"https://colab.research.google.com/assets/colab-badge.svg\" alt=\"Open In Colab\"/></a>"
      ]
    },
    {
      "cell_type": "code",
      "execution_count": null,
      "metadata": {
        "id": "iv4_tTo9_N4S"
      },
      "outputs": [],
      "source": [
        "\n",
        "from pandas.tseries.holiday import USFederalHolidayCalendar\n",
        "from pandas.tseries.holiday import *\n",
        "from pandas.tseries.offsets import CustomBusinessDay\n",
        "from pandas.tseries.holiday import AbstractHolidayCalendar, nearest_workday, Holiday\n",
        "class NigeriaHolidayCalendar(AbstractHolidayCalendar):\n",
        "\n",
        "    rules = [\n",
        "        Holiday('New Years Day', month=1, day=1),\n",
        "        Holiday('Independence Day', month=10, day=1, observance = sunday_to_monday),\n",
        "        Holiday('Labour Day', month=5, day=1),\n",
        "        Holiday('Democracy Day', month=6, day=12),\n",
        "        Holiday('Good Friday', month=4, day=10, observance=sunday_to_monday),\n",
        "        #GoodFriday, EasterMonday, # Easter/Family Day\n",
        "        Holiday('Christmas Day', month=12, day=25),\n",
        "        Holiday('Boxing Day', month=12, day=26),\n",
        "        Holiday('Boxing Day', month=12, day=26),\n",
        "        Holiday('Eid al-Fitr', month=5, day=25),\n",
        "        Holiday('Eid al-Adha', month=6, day=28, observance=sunday_to_monday),\n",
        "    ]\n",
        "\n",
        "myc = CustomBusinessDay(calendar = NigeriaHolidayCalendar())\n",
        "myc"
      ]
    }
  ]
}